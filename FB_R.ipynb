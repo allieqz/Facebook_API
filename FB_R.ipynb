{
 "cells": [
  {
   "cell_type": "code",
   "execution_count": 1,
   "metadata": {
    "collapsed": false
   },
   "outputs": [
    {
     "name": "stderr",
     "output_type": "stream",
     "text": [
      "Loading required package: httr\n",
      "Loading required package: rjson\n",
      "Loading required package: httpuv\n",
      "\n",
      "Attaching package: 'Rfacebook'\n",
      "\n",
      "The following object is masked from 'package:methods':\n",
      "\n",
      "    getGroup\n",
      "\n"
     ]
    },
    {
     "name": "stdout",
     "output_type": "stream",
     "text": [
      "Copy and paste into Site URL on Facebook App Settings: http://localhost:1410/ \n",
      "When done, press any key to continue...\n"
     ]
    },
    {
     "name": "stderr",
     "output_type": "stream",
     "text": [
      "Waiting for authentication in browser...\n",
      "Press Esc/Ctrl + C to abort\n",
      "Please point your browser to the following url: \n",
      "https://www.facebook.com/dialog/oauth?client_id=1955984884673549&scope=public_profile%20user_friends&redirect_uri=http%3A%2F%2Flocalhost%3A1410%2F&response_type=code&state=UIW5Wrtp2j\n",
      "Authentication complete.\n",
      "Authentication successful.\n"
     ]
    }
   ],
   "source": [
    "setwd(\"C:/\")\n",
    "library(Rfacebook)\n",
    "\n",
    "# getting token (only need to run once) \n",
    "# insert your App Secret that can be found on https://developers.facebook.com/apps/'app_id'/settings/basic/\n",
    "token = fbOAuth(app_id=\"\", app_secret=\"\", extended_permissions = FALSE)\n",
    "# saving token\n",
    "save(token, file=\"token\")\n",
    "load(\"token\")"
   ]
  },
  {
   "cell_type": "code",
   "execution_count": 2,
   "metadata": {
    "collapsed": false
   },
   "outputs": [
    {
     "data": {
      "text/html": [
       "<table>\n",
       "<thead><tr><th scope=col>id</th><th scope=col>name</th><th scope=col>username</th><th scope=col>first_name</th><th scope=col>middle_name</th><th scope=col>last_name</th><th scope=col>gender</th><th scope=col>locale</th><th scope=col>likes</th><th scope=col>picture</th></tr></thead>\n",
       "<tbody>\n",
       "\t<tr><td>10214035618709226                                                                                                                                       </td><td>Allie Dempsey                                                                                                                                           </td><td>NA                                                                                                                                                      </td><td>Allie                                                                                                                                                   </td><td>NA                                                                                                                                                      </td><td>Dempsey                                                                                                                                                 </td><td>female                                                                                                                                                  </td><td>en_US                                                                                                                                                   </td><td>NA                                                                                                                                                      </td><td>https://scontent.xx.fbcdn.net/v/t1.0-1/p200x200/11535814_10206810258999749_4272455175277045231_n.jpg?oh=04b7e57e7af44e9ee2c6900d436d92b8&amp;oe=5B3E32EA</td></tr>\n",
       "</tbody>\n",
       "</table>\n"
      ],
      "text/latex": [
       "\\begin{tabular}{r|llllllllll}\n",
       " id & name & username & first\\_name & middle\\_name & last\\_name & gender & locale & likes & picture\\\\\n",
       "\\hline\n",
       "\t 10214035618709226                                                                                                                                            & Allie Dempsey                                                                                                                                                & NA                                                                                                                                                           & Allie                                                                                                                                                        & NA                                                                                                                                                           & Dempsey                                                                                                                                                      & female                                                                                                                                                       & en\\_US                                                                                                                                                      & NA                                                                                                                                                           & https://scontent.xx.fbcdn.net/v/t1.0-1/p200x200/11535814\\_10206810258999749\\_4272455175277045231\\_n.jpg?oh=04b7e57e7af44e9ee2c6900d436d92b8\\&oe=5B3E32EA\\\\\n",
       "\\end{tabular}\n"
      ],
      "text/markdown": [
       "\n",
       "id | name | username | first_name | middle_name | last_name | gender | locale | likes | picture | \n",
       "|---|\n",
       "| 10214035618709226                                                                                                                                    | Allie Dempsey                                                                                                                                        | NA                                                                                                                                                   | Allie                                                                                                                                                | NA                                                                                                                                                   | Dempsey                                                                                                                                              | female                                                                                                                                               | en_US                                                                                                                                                | NA                                                                                                                                                   | https://scontent.xx.fbcdn.net/v/t1.0-1/p200x200/11535814_10206810258999749_4272455175277045231_n.jpg?oh=04b7e57e7af44e9ee2c6900d436d92b8&oe=5B3E32EA | \n",
       "\n",
       "\n"
      ],
      "text/plain": [
       "  id                name          username first_name middle_name last_name\n",
       "1 10214035618709226 Allie Dempsey NA       Allie      NA          Dempsey  \n",
       "  gender locale likes\n",
       "1 female en_US  NA   \n",
       "  picture                                                                                                                                             \n",
       "1 https://scontent.xx.fbcdn.net/v/t1.0-1/p200x200/11535814_10206810258999749_4272455175277045231_n.jpg?oh=04b7e57e7af44e9ee2c6900d436d92b8&oe=5B3E32EA"
      ]
     },
     "metadata": {},
     "output_type": "display_data"
    }
   ],
   "source": [
    "# getting info about a user\n",
    "me <- getUsers(users=\"10214035618709226\", token=token)\n",
    "me"
   ]
  },
  {
   "cell_type": "code",
   "execution_count": 4,
   "metadata": {
    "collapsed": false
   },
   "outputs": [
    {
     "name": "stdout",
     "output_type": "stream",
     "text": [
      "25 posts 50 posts 75 posts 100 posts "
     ]
    }
   ],
   "source": [
    "# getting 100 posts from a public page\n",
    "eminem_100 <- getPage(page=\"eminem\", token=token, feed=TRUE, n=100)\n",
    "write.csv(eminem_100, file = \"eminem_100.csv\", row.names = FALSE)"
   ]
  },
  {
   "cell_type": "code",
   "execution_count": 5,
   "metadata": {
    "collapsed": false
   },
   "outputs": [
    {
     "name": "stdout",
     "output_type": "stream",
     "text": [
      "25 posts "
     ]
    },
    {
     "data": {
      "text/html": [
       "<dl>\n",
       "\t<dt>$post</dt>\n",
       "\t\t<dd><table>\n",
       "<thead><tr><th scope=col>from_id</th><th scope=col>from_name</th><th scope=col>message</th><th scope=col>created_time</th><th scope=col>type</th><th scope=col>link</th><th scope=col>id</th><th scope=col>likes_count</th><th scope=col>comments_count</th><th scope=col>shares_count</th></tr></thead>\n",
       "<tbody>\n",
       "\t<tr><td>1977789959116971                                                                                                                                                                                                                                                                                                                                                                                     </td><td>Cal State East Bay Analytics Club                                                                                                                                                                                                                                                                                                                                                                    </td><td>Thank you, everyone, who showed up for the Statistics and Probability workshop held last week.\n",
       "\n",
       "Also, thank you, Chinki for hosting the workshop and explaining the important concepts in Statistics. We would also like to thank all the members of our club who are actively supporting and making our events and workshops greater successes.\n",
       "\n",
       "Check out some of the glimpses of the workshop.</td><td>2018-03-01T19:59:13+0000                                                                                                                                                                                                                                                                                                                                                                             </td><td>photo                                                                                                                                                                                                                                                                                                                                                                                                </td><td>https://www.facebook.com/csuebanalytics/photos/a.1996490577246909.1073741828.1977789959116971/2141260169436615/?type=3                                                                                                                                                                                                                                                                               </td><td>1977789959116971_2141263529436279                                                                                                                                                                                                                                                                                                                                                                    </td><td>8                                                                                                                                                                                                                                                                                                                                                                                                    </td><td>1                                                                                                                                                                                                                                                                                                                                                                                                    </td><td>0                                                                                                                                                                                                                                                                                                                                                                                                    </td></tr>\n",
       "</tbody>\n",
       "</table>\n",
       "</dd>\n",
       "\t<dt>$comments</dt>\n",
       "\t\t<dd><table>\n",
       "<thead><tr><th scope=col>from_id</th><th scope=col>from_name</th><th scope=col>message</th><th scope=col>created_time</th><th scope=col>likes_count</th><th scope=col>comments_count</th><th scope=col>id</th></tr></thead>\n",
       "<tbody>\n",
       "\t<tr><td>NA                               </td><td>NA                               </td><td>Thank You!!                      </td><td>2018-03-01T20:26:48+0000         </td><td>1                                </td><td>0                                </td><td>2141263529436279_2141272552768710</td></tr>\n",
       "</tbody>\n",
       "</table>\n",
       "</dd>\n",
       "</dl>\n"
      ],
      "text/latex": [
       "\\begin{description}\n",
       "\\item[\\$post] \\begin{tabular}{r|llllllllll}\n",
       " from\\_id & from\\_name & message & created\\_time & type & link & id & likes\\_count & comments\\_count & shares\\_count\\\\\n",
       "\\hline\n",
       "\t 1977789959116971                                                                                                                                                                                                                                                                                                                                                                                      & Cal State East Bay Analytics Club                                                                                                                                                                                                                                                                                                                                                                     & Thank you, everyone, who showed up for the Statistics and Probability workshop held last week.\n",
       "\n",
       "Also, thank you, Chinki for hosting the workshop and explaining the important concepts in Statistics. We would also like to thank all the members of our club who are actively supporting and making our events and workshops greater successes.\n",
       "\n",
       "Check out some of the glimpses of the workshop. & 2018-03-01T19:59:13+0000                                                                                                                                                                                                                                                                                                                                                                              & photo                                                                                                                                                                                                                                                                                                                                                                                                 & https://www.facebook.com/csuebanalytics/photos/a.1996490577246909.1073741828.1977789959116971/2141260169436615/?type=3                                                                                                                                                                                                                                                                                & 1977789959116971\\_2141263529436279                                                                                                                                                                                                                                                                                                                                                                   & 8                                                                                                                                                                                                                                                                                                                                                                                                     & 1                                                                                                                                                                                                                                                                                                                                                                                                     & 0                                                                                                                                                                                                                                                                                                                                                                                                    \\\\\n",
       "\\end{tabular}\n",
       "\n",
       "\\item[\\$comments] \\begin{tabular}{r|lllllll}\n",
       " from\\_id & from\\_name & message & created\\_time & likes\\_count & comments\\_count & id\\\\\n",
       "\\hline\n",
       "\t NA                                  & NA                                  & Thank You!!                         & 2018-03-01T20:26:48+0000            & 1                                   & 0                                   & 2141263529436279\\_2141272552768710\\\\\n",
       "\\end{tabular}\n",
       "\n",
       "\\end{description}\n"
      ],
      "text/markdown": [
       "$post\n",
       ":   \n",
       "from_id | from_name | message | created_time | type | link | id | likes_count | comments_count | shares_count | \n",
       "|---|\n",
       "| 1977789959116971                                                                                                                                                                                                                                                                                                                                                                                      | Cal State East Bay Analytics Club                                                                                                                                                                                                                                                                                                                                                                     | Thank you, everyone, who showed up for the Statistics and Probability workshop held last week.\n",
       "\n",
       "Also, thank you, Chinki for hosting the workshop and explaining the important concepts in Statistics. We would also like to thank all the members of our club who are actively supporting and making our events and workshops greater successes.\n",
       "\n",
       "Check out some of the glimpses of the workshop. | 2018-03-01T19:59:13+0000                                                                                                                                                                                                                                                                                                                                                                              | photo                                                                                                                                                                                                                                                                                                                                                                                                 | https://www.facebook.com/csuebanalytics/photos/a.1996490577246909.1073741828.1977789959116971/2141260169436615/?type=3                                                                                                                                                                                                                                                                                | 1977789959116971_2141263529436279                                                                                                                                                                                                                                                                                                                                                                     | 8                                                                                                                                                                                                                                                                                                                                                                                                     | 1                                                                                                                                                                                                                                                                                                                                                                                                     | 0                                                                                                                                                                                                                                                                                                                                                                                                     | \n",
       "\n",
       "\n",
       "\n",
       "$comments\n",
       ":   \n",
       "from_id | from_name | message | created_time | likes_count | comments_count | id | \n",
       "|---|\n",
       "| NA                                | NA                                | Thank You!!                       | 2018-03-01T20:26:48+0000          | 1                                 | 0                                 | 2141263529436279_2141272552768710 | \n",
       "\n",
       "\n",
       "\n",
       "\n",
       "\n"
      ],
      "text/plain": [
       "$post\n",
       "           from_id                         from_name\n",
       "1 1977789959116971 Cal State East Bay Analytics Club\n",
       "                                                                                                                                                                                                                                                                                                                                                                                                message\n",
       "1 Thank you, everyone, who showed up for the Statistics and Probability workshop held last week.\\n\\nAlso, thank you, Chinki for hosting the workshop and explaining the important concepts in Statistics. We would also like to thank all the members of our club who are actively supporting and making our events and workshops greater successes.\\n\\nCheck out some of the glimpses of the workshop.\n",
       "              created_time  type\n",
       "1 2018-03-01T19:59:13+0000 photo\n",
       "                                                                                                                    link\n",
       "1 https://www.facebook.com/csuebanalytics/photos/a.1996490577246909.1073741828.1977789959116971/2141260169436615/?type=3\n",
       "                                 id likes_count comments_count shares_count\n",
       "1 1977789959116971_2141263529436279           8              1            0\n",
       "\n",
       "$comments\n",
       "  from_id from_name     message             created_time likes_count\n",
       "1      NA        NA Thank You!! 2018-03-01T20:26:48+0000           1\n",
       "  comments_count                                id\n",
       "1              0 2141263529436279_2141272552768710\n"
      ]
     },
     "metadata": {},
     "output_type": "display_data"
    }
   ],
   "source": [
    "# getting the latest post from a page\n",
    "page <- getPage(page=\"csuebanalytics\", token=token, feed=TRUE)\n",
    "post1 <- getPost(post=page$id[1], token=token)\n",
    "post1"
   ]
  },
  {
   "cell_type": "code",
   "execution_count": 8,
   "metadata": {
    "collapsed": false
   },
   "outputs": [
    {
     "data": {
      "text/html": [
       "<table>\n",
       "<thead><tr><th scope=col>name</th><th scope=col>privacy</th><th scope=col>id</th></tr></thead>\n",
       "<tbody>\n",
       "\t<tr><td>SF Roommate Exchange</td><td>OPEN                </td><td>197980410334463     </td></tr>\n",
       "</tbody>\n",
       "</table>\n"
      ],
      "text/latex": [
       "\\begin{tabular}{r|lll}\n",
       " name & privacy & id\\\\\n",
       "\\hline\n",
       "\t SF Roommate Exchange & OPEN                 & 197980410334463     \\\\\n",
       "\\end{tabular}\n"
      ],
      "text/markdown": [
       "\n",
       "name | privacy | id | \n",
       "|---|\n",
       "| SF Roommate Exchange | OPEN                 | 197980410334463      | \n",
       "\n",
       "\n"
      ],
      "text/plain": [
       "  name                 privacy id             \n",
       "1 SF Roommate Exchange OPEN    197980410334463"
      ]
     },
     "metadata": {},
     "output_type": "display_data"
    },
    {
     "name": "stdout",
     "output_type": "stream",
     "text": [
      "24 posts "
     ]
    }
   ],
   "source": [
    "### GROUPS\n",
    "# Looking up the id (works for both public and closed)\n",
    "id <- searchGroup(name=\"sfroomateexchange\", token=token)\n",
    "id[1,]\n",
    "\n",
    "# dowloading post from an open group\n",
    "# gets only 25 posts\n",
    "group <- getGroup(group_id=\"197980410334463\", token=token, feed = TRUE)"
   ]
  },
  {
   "cell_type": "code",
   "execution_count": 10,
   "metadata": {
    "collapsed": false
   },
   "outputs": [
    {
     "data": {
      "text/html": [
       "<dl>\n",
       "\t<dt>$post</dt>\n",
       "\t\t<dd><table>\n",
       "<thead><tr><th scope=col>from_id</th><th scope=col>from_name</th><th scope=col>message</th><th scope=col>created_time</th><th scope=col>type</th><th scope=col>link</th><th scope=col>id</th><th scope=col>likes_count</th><th scope=col>comments_count</th><th scope=col>shares_count</th></tr></thead>\n",
       "<tbody>\n",
       "\t<tr><td>1639834256080327                                                                               </td><td>Stuti Gupta                                                                                    </td><td>Mattress - Queen Size\n",
       "$70 - Fremont, CA\n",
       "\n",
       "This is new mattress.                              </td><td>2018-03-02T07:54:05+0000                                                                       </td><td>photo                                                                                          </td><td>https://www.facebook.com/photo.php?fbid=1809507539112997&amp;set=gm.1226233160842511&amp;type=3</td><td>197980410334463_1226233160842511                                                               </td><td>0                                                                                              </td><td>0                                                                                              </td><td>0                                                                                              </td></tr>\n",
       "</tbody>\n",
       "</table>\n",
       "</dd>\n",
       "\t<dt>$comments</dt>\n",
       "\t\t<dd><table>\n",
       "<thead><tr><th scope=col>from_id</th><th scope=col>from_name</th><th scope=col>message</th><th scope=col>created_time</th><th scope=col>likes_count</th><th scope=col>comments_count</th><th scope=col>id</th></tr></thead>\n",
       "<tbody>\n",
       "</tbody>\n",
       "</table>\n",
       "</dd>\n",
       "</dl>\n"
      ],
      "text/latex": [
       "\\begin{description}\n",
       "\\item[\\$post] \\begin{tabular}{r|llllllllll}\n",
       " from\\_id & from\\_name & message & created\\_time & type & link & id & likes\\_count & comments\\_count & shares\\_count\\\\\n",
       "\\hline\n",
       "\t 1639834256080327                                                                            & Stuti Gupta                                                                                 & Mattress - Queen Size\n",
       "\\$70 - Fremont, CA\n",
       "\n",
       "This is new mattress.                         & 2018-03-02T07:54:05+0000                                                                    & photo                                                                                       & https://www.facebook.com/photo.php?fbid=1809507539112997\\&set=gm.1226233160842511\\&type=3 & 197980410334463\\_1226233160842511                                                          & 0                                                                                           & 0                                                                                           & 0                                                                                          \\\\\n",
       "\\end{tabular}\n",
       "\n",
       "\\item[\\$comments] \\begin{tabular}{r|lllllll}\n",
       " from\\_id & from\\_name & message & created\\_time & likes\\_count & comments\\_count & id\\\\\n",
       "\\hline\n",
       "\\end{tabular}\n",
       "\n",
       "\\end{description}\n"
      ],
      "text/markdown": [
       "$post\n",
       ":   \n",
       "from_id | from_name | message | created_time | type | link | id | likes_count | comments_count | shares_count | \n",
       "|---|\n",
       "| 1639834256080327                                                                        | Stuti Gupta                                                                             | Mattress - Queen Size\n",
       "$70 - Fremont, CA\n",
       "\n",
       "This is new mattress.                       | 2018-03-02T07:54:05+0000                                                                | photo                                                                                   | https://www.facebook.com/photo.php?fbid=1809507539112997&set=gm.1226233160842511&type=3 | 197980410334463_1226233160842511                                                        | 0                                                                                       | 0                                                                                       | 0                                                                                       | \n",
       "\n",
       "\n",
       "\n",
       "$comments\n",
       ":   \n",
       "from_id | from_name | message | created_time | likes_count | comments_count | id | \n",
       "||\n",
       "\n",
       "\n",
       "\n",
       "\n",
       "\n"
      ],
      "text/plain": [
       "$post\n",
       "           from_id   from_name\n",
       "1 1639834256080327 Stuti Gupta\n",
       "                                                            message\n",
       "1 Mattress - Queen Size\\n$70 - Fremont, CA\\n\\nThis is new mattress.\n",
       "              created_time  type\n",
       "1 2018-03-02T07:54:05+0000 photo\n",
       "                                                                                     link\n",
       "1 https://www.facebook.com/photo.php?fbid=1809507539112997&set=gm.1226233160842511&type=3\n",
       "                                id likes_count comments_count shares_count\n",
       "1 197980410334463_1226233160842511           0              0            0\n",
       "\n",
       "$comments\n",
       "[1] from_id        from_name      message        created_time   likes_count   \n",
       "[6] comments_count id            \n",
       "<0 rows> (or 0-length row.names)\n"
      ]
     },
     "metadata": {},
     "output_type": "display_data"
    }
   ],
   "source": [
    "# second latest post from a public group SF Roommate Exchange\n",
    "post2 <- getPost(post=group$id[2], token=token)\n",
    "post2"
   ]
  },
  {
   "cell_type": "code",
   "execution_count": null,
   "metadata": {
    "collapsed": true
   },
   "outputs": [],
   "source": [
    "# requires extended permission\n",
    "# https://github.com/pablobarbera/Rfacebook/blob/master/Rfacebook/R/fbOAuth.R\n",
    "feed <- getNewsfeed(token=token, n = 15)"
   ]
  }
 ],
 "metadata": {
  "kernelspec": {
   "display_name": "R",
   "language": "R",
   "name": "ir"
  },
  "language_info": {
   "codemirror_mode": "r",
   "file_extension": ".r",
   "mimetype": "text/x-r-source",
   "name": "R",
   "pygments_lexer": "r",
   "version": "3.3.3"
  }
 },
 "nbformat": 4,
 "nbformat_minor": 0
}
