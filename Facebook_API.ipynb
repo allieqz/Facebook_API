{
 "cells": [
  {
   "cell_type": "code",
   "execution_count": 8,
   "metadata": {
    "collapsed": false
   },
   "outputs": [],
   "source": [
    "import facebook\n",
    "token = 'EAAby9Tg8rA0BAApLCebqrt4brcQxPmmAdK7Y4tYcG6rfnCZCtWJdeeTBUga1MDDZCFNZC71rjCUnDNZC831EXG4F17QqAyVzNaBaIO6IsK6AjgIxkq6JoQs5Fa8knWpS5uCcPUat7IVN67CgjBZB66lP43QEUCqUUJZAbZCnyL7jwk33ZC93yuVCINUDMBMrWmgZD'\n",
    "graph = facebook.GraphAPI(access_token=token)"
   ]
  },
  {
   "cell_type": "code",
   "execution_count": 9,
   "metadata": {
    "collapsed": false
   },
   "outputs": [],
   "source": [
    "friends = graph.get_connections(id='me', connection_name='friends')"
   ]
  },
  {
   "cell_type": "code",
   "execution_count": 10,
   "metadata": {
    "collapsed": false
   },
   "outputs": [
    {
     "name": "stdout",
     "output_type": "stream",
     "text": [
      "{u'data': [], u'summary': {u'total_count': 77}}\n"
     ]
    }
   ],
   "source": [
    "print friends"
   ]
  },
  {
   "cell_type": "code",
   "execution_count": 11,
   "metadata": {
    "collapsed": false
   },
   "outputs": [
    {
     "name": "stdout",
     "output_type": "stream",
     "text": [
      "2 Rooms in Twin Peaks!! Beautiful House!\n",
      "$1,300 - San Francisco, CA\n",
      "\n",
      "available mar 25\n",
      "Hi!! \n",
      "\n",
      "My current roommate and I are looking for 2 professional, fun, clean and organized girls! Our current lease is up March 25th but the place is available next month/April 1st. Price range would be between $1200-$1400. \n",
      "\n",
      "We have a place lined up in Twin Peaks on a quiet, residential area. 4 bedroom with living and dining room, beautiful kitchen, small backyard, garage and plenty of street parking, washer/dryer in unit and 2 fridges. \n",
      "\n",
      "We are two 25 year old professionals who enjoy cooking, watching the Bachelor and Grey's Anatomy and going out occasionally on weekends. \n",
      "\n",
      "Please send me a short message if you're interested!! \n",
      ":)\n"
     ]
    }
   ],
   "source": [
    "post = graph.get_object(id='1220237978108696', fields='message')\n",
    "print(post['message'])"
   ]
  },
  {
   "cell_type": "code",
   "execution_count": 25,
   "metadata": {
    "collapsed": false
   },
   "outputs": [],
   "source": [
    "time = graph.get_object(id='197980410334463', fields='updated_time')"
   ]
  },
  {
   "cell_type": "code",
   "execution_count": 26,
   "metadata": {
    "collapsed": false
   },
   "outputs": [
    {
     "name": "stdout",
     "output_type": "stream",
     "text": [
      "{u'id': u'197980410334463', u'updated_time': u'2018-02-22T00:46:06+0000'}\n"
     ]
    }
   ],
   "source": [
    "print time"
   ]
  },
  {
   "cell_type": "code",
   "execution_count": null,
   "metadata": {
    "collapsed": true
   },
   "outputs": [],
   "source": []
  }
 ],
 "metadata": {
  "anaconda-cloud": {},
  "kernelspec": {
   "display_name": "Python [Root]",
   "language": "python",
   "name": "Python [Root]"
  },
  "language_info": {
   "codemirror_mode": {
    "name": "ipython",
    "version": 2
   },
   "file_extension": ".py",
   "mimetype": "text/x-python",
   "name": "python",
   "nbconvert_exporter": "python",
   "pygments_lexer": "ipython2",
   "version": "2.7.12"
  }
 },
 "nbformat": 4,
 "nbformat_minor": 0
}
