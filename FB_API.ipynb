{
 "cells": [
  {
   "cell_type": "code",
   "execution_count": 13,
   "metadata": {
    "collapsed": true
   },
   "outputs": [],
   "source": [
    "import facebook\n",
    "import urllib3\n",
    "\n",
    "# insert your token\n",
    "token = ''\n",
    "graph = facebook.GraphAPI(access_token=token)"
   ]
  },
  {
   "cell_type": "code",
   "execution_count": 14,
   "metadata": {
    "collapsed": false
   },
   "outputs": [
    {
     "name": "stdout",
     "output_type": "stream",
     "text": [
      "{u'data': [], u'summary': {u'total_count': 78}}\n"
     ]
    }
   ],
   "source": [
    "# how many friends do have?\n",
    "friends = graph.get_connections(id='me', connection_name='friends')\n",
    "print (friends)"
   ]
  },
  {
   "cell_type": "code",
   "execution_count": 15,
   "metadata": {
    "collapsed": false
   },
   "outputs": [
    {
     "name": "stdout",
     "output_type": "stream",
     "text": [
      "Looking for single tenant to occupy a private and separate unit behind main house located in oceanview. Along the M streetcar line with easy access downtown, ccsf, sfsu. 1 bd and 1 ba with kitchenette. No laundry or parking on site. Rent is $1200 plus utilities. Wifi and garbage c/o owner, who lives in the main house. Unit is unfurnished and bathroom is currently under construction. Pictures are of the unit (not shown is bathroom)\n",
      "\n",
      "Short term only: march to july lease.\n"
     ]
    }
   ],
   "source": [
    "# printing a single post message\n",
    "text = graph.get_object(id='1221226814676479', fields='message')\n",
    "print(text['message'])"
   ]
  },
  {
   "cell_type": "code",
   "execution_count": 16,
   "metadata": {
    "collapsed": false
   },
   "outputs": [
    {
     "name": "stdout",
     "output_type": "stream",
     "text": [
      "[u'created_time', u'message', u'story', u'id']\n"
     ]
    }
   ],
   "source": [
    "# Get the posts of a user\n",
    "user = 'BillGates'\n",
    "\n",
    "graph = facebook.GraphAPI(token)\n",
    "profile = graph.get_object(user)\n",
    "posts = graph.get_connections(profile['id'], 'posts')\n",
    "\n",
    "output = open('BillGates.csv', 'w')\n",
    "\n",
    "header = posts['data'][0].keys()\n",
    "print(header)\n",
    "output.write(','.join(header) + \"\\n\")"
   ]
  },
  {
   "cell_type": "code",
   "execution_count": 17,
   "metadata": {
    "collapsed": false
   },
   "outputs": [
    {
     "name": "stdout",
     "output_type": "stream",
     "text": [
      "2018-03-02T19:15:19+0000\n",
      "I'm a huge fan of Roger Federer, and this Monday I'll get to play alongside him in the #MatchForAfrica.\n",
      "\n",
      "Watch LIVE here on Facebook and get involved by making a donation to the Roger Federer Charitable Fund, Inc. by clicking DONATE below.\n",
      "Bill Gates plans to go live.\n",
      "216311481960_10155291467161961\n",
      "2018-02-27T15:41:06+0000\n",
      "Here are 4 things I won’t be doing today… and one thing I will: http://b-gat.es/reddit\n",
      "216311481960_10155283126976961\n",
      "2018-02-25T15:33:00+0000\n",
      "Melinda is my partner in both senses of the word, at home and at work. Here’s what happens when we disagree: http://b-gat.es/2GEHcAc\n",
      "216311481960_10155278516416961\n",
      "2018-02-24T17:18:13+0000\n",
      "People today are living longer, healthier, and happier lives than ever before. I asked one of my favorite authors, Steven Pinker, to explain why.\n",
      "216311481960_152598545390232\n",
      "2018-02-23T21:32:00+0000\n",
      "The idea that children shouldn’t die of malaria isn’t just our value. It’s a human value. Parents in every culture want their children to survive and thrive. That’s why our foundation partners with thousands of organizations to reach people where they are: http://b-gat.es/2HIpD3h\n",
      "216311481960_10155274244696961\n",
      "2018-02-23T15:03:46+0000\n",
      "Melinda Gates talks about the experience that opened our eyes to the inequities in the world, and the incredible progress that makes us optimistic about the future.\n",
      "216311481960_152325615417525\n",
      "2018-02-22T14:29:36+0000\n",
      "I’ve always loved digging into the science and math behind my work. At Microsoft, I got deep into computer science. At the foundation, it’s computer science plus biology, chemistry, agronomy, and more. I’ll spend hours talking to a researcher or an expert, and then I’ll go home, dying to tell Melinda what I’ve learned. I can’t imagine a better way to spend the bulk of my time: http://b-gat.es/2CE400o  #TBT\n",
      "216311481960_10155270876401961\n",
      "2018-02-21T14:57:01+0000\n",
      "Melinda and I have been looking at how we might expand our work in the United States. Although we travel extensively to learn about the lives of poor people in other countries, we’ve done less of that in our own country. So last fall, we took a trip to Atlanta, Georgia to learn more.\n",
      "\n",
      "What we saw reinforced the importance of education and made us think through other ways we could help Americans break the cycle of poverty. We haven’t decided how what we’ve been learning might affect our giving, but it has certainly had an effect on us: http://b-gat.es/2CAEIjN\n",
      "216311481960_10155268653631961\n",
      "2018-02-19T15:44:28+0000\n",
      "Hundreds of millions of people depend on farming for their livelihoods.\n",
      "\n",
      "Here’s how we’re helping farmers adapt to climate change: http://b-gat.es/2HvabYo\n",
      "216311481960_10155264123176961\n",
      "2018-02-18T16:40:02+0000\n",
      "Although Melinda and I see a lot of disease and poverty in our travels—and many other big problems that need to be solved—we also see the best of humanity: http://b-gat.es/2CrhoVv\n",
      "216311481960_10155261591931961\n",
      "2018-02-17T15:13:11+0000\n",
      "As counterintuitive as it may seem, population sizes don’t go up as the world gets healthier. They go down. Here’s why.\n",
      "216311481960_150993162217437\n",
      "2018-02-16T19:42:30+0000\n",
      "Melinda and I would be delighted if someday diseases like polio and malaria are a distant memory, and the fact that we worked on them is too: http://b-gat.es/2ExaiER\n",
      "216311481960_10155257383826961\n",
      "2018-02-14T14:39:02+0000\n",
      "Melinda and I got a kick out of doing our first autocomplete challenge...\n",
      "216311481960_150313402285413\n",
      "2018-02-13T10:04:32+0000\n",
      "This is our 10th Annual Letter, and we’re marking the occasion by answering 10 tough questions that people ask us: http://b-gat.es/2EbPKSa\n",
      "Bill Gates updated their cover photo.\n",
      "216311481960_10155248792881961\n",
      "2018-02-11T14:02:00+0000\n",
      "It was fun to join Tom Heap on BBC One’s Countryfile during my recent trip to Edinburgh, Scotland. We talked about the importance of agriculture in lifting people out of poverty and met with some amazing scientists who are leading advancements in livestock health and productivity. Tune in at 6:30 p.m. GMT.\n",
      "216311481960_10155240548626961\n",
      "2018-02-13T17:05:22+0000\n",
      "If you could ask Melinda and me anything, what would you want to know? We’ll answer a few of your questions live with Lin-Manuel Miranda at Hunter College.\n",
      "Bill Gates was live.\n",
      "216311481960_10155239754391961\n",
      "2018-02-07T14:45:03+0000\n",
      "Today marks one year since our dear friend Hans Rosling’s passing. In the last year of his life, Hans sent us a very touching letter. He knew he didn’t have much time left, and he hoped that we would keep spreading the message he was so passionate about: that the world is making progress, and that policy decisions should be grounded in data. \n",
      "\n",
      "If you want to know more about Hans and his work, we recommend any one of his wonderful TED Talks.\n",
      "216311481960_10155235061871961\n",
      "2018-02-05T14:42:03+0000\n",
      "This surprised me…\n",
      "\n",
      "You’re 37 times less likely to be killed today by a lightning bolt than you were at the turn of the 20th century – and that’s not because there are fewer thunderstorms: http://b-gat.es/2s4FANu\n",
      "216311481960_10155230630146961\n",
      "2018-02-02T18:38:26+0000\n",
      "I love stories like this…\n",
      "\n",
      "14-year-old Emma Yang is developing an app to help bridge the gap between Alzheimer's patients and their loved ones.\n",
      "216311481960_10155224102306961\n",
      "2018-01-31T14:47:29+0000\n",
      "I know from personal experience how awful it feels when a loved one is diagnosed with Alzheimer’s.\n",
      "\n",
      "I spoke with Maria Shriver about what it will take to find a breakthrough: http://b-gat.es/2GzDLvo\n",
      "216311481960_10155219093326961\n",
      "2018-01-30T20:44:02+0000\n",
      "I’ve spent a lot of time thinking about how the information we consume shapes our perception of the world.\n",
      "\n",
      "I’m glad we have brilliant thinkers like Steven Pinker to help us spot signs of progress...\n",
      "216311481960_10155217375226961\n",
      "2018-01-30T14:57:41+0000\n",
      "Since my early days as a programmer, I’ve been fascinated by computers.\n",
      "\n",
      "I was thrilled when Code.org asked me to help them create a video series about how they work\n",
      "Bill Gates shared Code.org's video.\n",
      "216311481960_10155216634416961\n",
      "2018-01-29T14:57:34+0000\n",
      "I can’t wait for readers to get their hands on my new favorite book.\n",
      "\n",
      "You can download a free chapter of “Enlightenment Now” here: http://b-gat.es/2Gs3BBh\n",
      "216311481960_10155214141051961\n",
      "2018-01-27T17:08:03+0000\n",
      "I sat down with Steven Pinker and Philip Galanes from the New York Times to talk about Steven’s upcoming book, “Enlightenment Now.”\n",
      "\n",
      "I came away from the conversation with a renewed sense of optimism about the world: http://b-gat.es/2rMP4gt\n",
      "216311481960_10155209349596961\n",
      "2018-01-27T00:15:40+0000\n",
      "The UK is pioneering new solutions that will help farmers raise healthier and more productive livestock. I’m at the University of Edinburgh in Scotland to meet the British scientists behind the cutting-edge research.\n",
      "216311481960_10155207280556961\n"
     ]
    }
   ],
   "source": [
    "for post in posts['data']:\n",
    "#    print(post['created_time'])\n",
    "#    print(post['message'])\n",
    "    for value in post.values():\n",
    "        print(value)"
   ]
  },
  {
   "cell_type": "code",
   "execution_count": 18,
   "metadata": {
    "collapsed": false
   },
   "outputs": [
    {
     "name": "stdout",
     "output_type": "stream",
     "text": [
      "(u'1219527451513082', {u'created_time': u'2018-02-19T23:45:10+0000', u'id': u'197980410334463_1219527451513082'})\n",
      "(u'1220745841391243', {u'created_time': u'2018-02-22T00:46:00+0000', u'id': u'197980410334463_1220745841391243'})\n"
     ]
    }
   ],
   "source": [
    "# Get the time two different posts were created.\n",
    "post_ids = ['1219527451513082', '1220745841391243']\n",
    "posts = graph.get_objects(ids=post_ids, fields=\"created_time\")\n",
    "\n",
    "for k, v in posts.items():\n",
    "    print(k, v)"
   ]
  },
  {
   "cell_type": "code",
   "execution_count": null,
   "metadata": {
    "collapsed": true
   },
   "outputs": [],
   "source": []
  }
 ],
 "metadata": {
  "anaconda-cloud": {},
  "kernelspec": {
   "display_name": "Python [Root]",
   "language": "python",
   "name": "Python [Root]"
  },
  "language_info": {
   "codemirror_mode": {
    "name": "ipython",
    "version": 2
   },
   "file_extension": ".py",
   "mimetype": "text/x-python",
   "name": "python",
   "nbconvert_exporter": "python",
   "pygments_lexer": "ipython2",
   "version": "2.7.12"
  }
 },
 "nbformat": 4,
 "nbformat_minor": 0
}
